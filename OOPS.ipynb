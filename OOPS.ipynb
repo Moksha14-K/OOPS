{
  "nbformat": 4,
  "nbformat_minor": 0,
  "metadata": {
    "colab": {
      "provenance": []
    },
    "kernelspec": {
      "name": "python3",
      "display_name": "Python 3"
    },
    "language_info": {
      "name": "python"
    }
  },
  "cells": [
    {
      "cell_type": "markdown",
      "source": [
        "Python OOPs Questions\n",
        "\n",
        "\n"
      ],
      "metadata": {
        "id": "QGnKue7X-YQS"
      }
    },
    {
      "cell_type": "markdown",
      "source": [
        "1. What is Object-Oriented Programming (OOP)?\n",
        "Object Oriented Programming is a fundamental concept in Python, empowering developers to build modular, maintainable, and scalable applications. OOPs is a way of organizing code that uses objects and classes to represent real-world entities and their behavior.\n"
      ],
      "metadata": {
        "id": "MzF6LOPn-i6E"
      }
    },
    {
      "cell_type": "markdown",
      "source": [
        "2.  What is a class in OOP?\n",
        "In Python, a class is a template for creating objects with specific properties and behaviors. Classes are a fundamental concept in object-oriented programming (OOP). Classes define the data and functions that objects have.They also define the actions that objects can perform.\n"
      ],
      "metadata": {
        "id": "XlAQjAUC_WpU"
      }
    },
    {
      "cell_type": "markdown",
      "source": [
        "3. What is an object in OOP?\n",
        "An object is an instance of a class, created by calling the class like a function. The object contains the data and behavior defined by the class, as well as a unique identity."
      ],
      "metadata": {
        "id": "zgU_Y4PfAjVO"
      }
    },
    {
      "cell_type": "markdown",
      "source": [
        "4. What is the difference between abstraction and encapsulation?\n",
        "In Python, Abstraction is achieved by creating classes and hiding the implementation details of the methods. Encapsulation is achieved by making the data and methods private and only accessing them through public methods."
      ],
      "metadata": {
        "id": "tVgZ5_gIAs0x"
      }
    },
    {
      "cell_type": "markdown",
      "source": [
        "5. What are dunder methods in Python?\n",
        " Dunder methods, also known as magic methods or special methods, are predefined methods in Python that have double underscores (or “dunders”) at the beginning and end of their names. These methods provide a way to define specific behaviors for built-in operations or functionalities in Python classes."
      ],
      "metadata": {
        "id": "1O4BTaJiA48y"
      }
    },
    {
      "cell_type": "markdown",
      "source": [
        "6. Explain the concept of inheritance in OOP.\n",
        "Inheritance is a fundamental concept in object-oriented programming (OOP) that allows a class (called a child or derived class) to inherit attributes and methods from another class (called a parent or base class). This promotes code reuse, modularity, and a hierarchical class structure."
      ],
      "metadata": {
        "id": "5Ezlm9kXBgxu"
      }
    },
    {
      "cell_type": "markdown",
      "source": [
        "7. What is polymorphism in OOP.\n",
        "In object-oriented-based Python programming, Polymorphism means the same function name is being used for different types. Each function is differentiated based on its data type and number of arguments. So, each function has a different signature. This allows developers to write clean, readable, and resilient codes. It allows different objects to be handled through a single uniform interface, which simplifies the design of complex systems."
      ],
      "metadata": {
        "id": "SUSXXwvACICe"
      }
    },
    {
      "cell_type": "markdown",
      "source": [
        "8. How is encapsulation achieved in Python?\n",
        "Encapsulation in Python is achieved by using access modifiers to limit access to a class's variables and methods. These access modifiers include public, private, and protected."
      ],
      "metadata": {
        "id": "X1FZoVUeCYT9"
      }
    },
    {
      "cell_type": "markdown",
      "source": [
        "9. What is a constructor in Python?\n",
        "In Python, a constructor is a special method called __init__ that is automatically invoked when a new object of a class is created, allowing you to initialize the object's attributes and set up its initial state by assigning values to its variables when the object is first instantiated; essentially, it's a function that runs whenever you create a new object from a class.\n",
        "\n",
        "\n"
      ],
      "metadata": {
        "id": "98FJLoadCj0t"
      }
    },
    {
      "cell_type": "markdown",
      "source": [
        "10. What are class and static methods in Python?\n",
        "In Python, a \"class method\" is a function defined within a class that can access and modify the class-level attributes, while a \"static method\" is a function also within a class but cannot access any instance or class attributes, essentially acting as a utility function that doesn't need to be tied to a specific object; both are declared using decorators (@classmethod and @staticmethod) respectively.\n"
      ],
      "metadata": {
        "id": "tDeTDEHRCymw"
      }
    },
    {
      "cell_type": "markdown",
      "source": [
        "11. What is method overloading in Python?\n",
        "Method overloading in Python is the ability to define multiple methods with the same name but different parameters. This concept is used to create different implementations of a method based on the arguments passed."
      ],
      "metadata": {
        "id": "lknN0YWBcj2j"
      }
    },
    {
      "cell_type": "markdown",
      "source": [
        "12. What is method overriding in OOP?\n",
        "Method overriding is a feature in object-oriented programming (OOP) that allows a subclass to replace a method in its superclass. The overridden method has the same name, parameters, and return type as the method in the superclass."
      ],
      "metadata": {
        "id": "ib3LRrG9cuxz"
      }
    },
    {
      "cell_type": "markdown",
      "source": [
        "13. What is a property decorator in Python?\n",
        "Property decorator is a built-in decorator in Python which is helpful in defining the properties effortlessly without manually calling the inbuilt function property(). Which is used to return the property attributes of a class from the stated getter, setter and deleter as parameters.\n"
      ],
      "metadata": {
        "id": "2h2lnAhPc6ee"
      }
    },
    {
      "cell_type": "markdown",
      "source": [
        "14. Why is polymorphism important in OOP?\n",
        "Polymorphism is crucial in Object-Oriented Programming (OOP) because it allows developers to write flexible and reusable code by enabling a single method name to perform different actions depending on the object type, essentially creating a unified interface for diverse objects, which improves code maintainability, readability, and adaptability to future changes."
      ],
      "metadata": {
        "id": "-KU8Zj8SdI--"
      }
    },
    {
      "cell_type": "markdown",
      "source": [
        "15. What is an abstract class in Python?\n",
        "An abstract class in Python is a class that can't be instantiated on its own, but is used as a blueprint for other classes. Abstract classes are created using the abc (Abstract Base Classes) module."
      ],
      "metadata": {
        "id": "mL7bkhfXdT0Z"
      }
    },
    {
      "cell_type": "markdown",
      "source": [
        "16. What are the advantages of OOP?\n",
        "Object-oriented programming (OOP) has many advantages, including code reusability, improved code organization, and easier maintenance."
      ],
      "metadata": {
        "id": "_mQ_ITeGdcDs"
      }
    },
    {
      "cell_type": "markdown",
      "source": [
        "17. What is the difference between a class variable and an instance variable?\n",
        "Instance Variable is basically a class variable without a static modifier and is usually shared by all class instances. Across different objects, these variables can have different values. They are tied to a particular object instance of the class, therefore, the contents of an instance variable are totally independent of one object instance to others.\n",
        "Class Variable is basically a static variable that can be declared anywhere at class level with static. Across different objects, these variables can have only one value. These variables are not tied to any particular object of the class, therefore, can share across all objects of the class.\n",
        "\n"
      ],
      "metadata": {
        "id": "JiF6a61zdm3X"
      }
    },
    {
      "cell_type": "markdown",
      "source": [
        "18. What is multiple inheritance in Python?\n",
        "In Python, \"multiple inheritance\" refers to the concept where a single child class can inherit properties and methods from more than one parent class, essentially allowing a class to combine characteristics from multiple base classes simultaneously; it's like a class inheriting traits from multiple \"parents\" in an object-oriented programming paradigm.\n",
        "\n"
      ],
      "metadata": {
        "id": "MnDTzs9vw-4m"
      }
    },
    {
      "cell_type": "markdown",
      "source": [
        "19. Explain the purpose of ‘’__str__’ and ‘__repr__’ ‘ methods in Python.\n",
        "In Python, the __str__() and __repr__() methods are used to return string representations of objects. __str__() is used to create a readable representation for users, while __repr__() is used to create a detailed representation for developers."
      ],
      "metadata": {
        "id": "0HbBngdceUsX"
      }
    },
    {
      "cell_type": "markdown",
      "source": [
        "20. What is the significance of the ‘super()’ function in Python?\n",
        "In Python, super() is a built-in function that allows access to methods and properties of a parent or superclass from a child or subclass. This is useful when working with inheritance in object-oriented programming.\n"
      ],
      "metadata": {
        "id": "fUUm0sBZw5Mg"
      }
    },
    {
      "cell_type": "markdown",
      "source": [
        "21. What is the significance of the __del__ method in Python?\n",
        "In Python, the __del__ method, also known as a destructor, is a special method that is called automatically when an object is about to be deleted from memory, allowing you to perform any necessary cleanup tasks like releasing external resources held by the object before it is completely removed by the garbage collector; however, due to the unpredictable timing of garbage collection, it's generally recommended to use context managers for more reliable resource management.\n"
      ],
      "metadata": {
        "id": "c1EPu4Zde6DP"
      }
    },
    {
      "cell_type": "markdown",
      "source": [
        "22. What is the difference between @staticmethod and @classmethod in Python?\n",
        "The difference between the Class method and the static method is:\n",
        "\n",
        "-A class method takes cls as the first parameter while a static method needs no specific parameters.\n",
        "-A class method can access or modify the class state while a static method can’t access or modify it.\n",
        "-In general, static methods know nothing about the class state. They are utility-type methods that take some parameters and work upon those parameters. On the other hand class methods must have class as a parameter.\n",
        "-We use @classmethod decorator in python to create a class method and we use @staticmethod decorator to create a static method in python.\n"
      ],
      "metadata": {
        "id": "vc07l4qLfHn1"
      }
    },
    {
      "cell_type": "markdown",
      "source": [
        "23. How does polymorphism work in Python with inheritance?\n",
        "Inheritance permits new classes to inherit features from existing classes, decreasing redundancy and reusing code. Polymorphism lets objects of diverse types share the same interface, empowering methods to be executed unexpectedly based on the object type. This decreases the code required and streamlines upkeep."
      ],
      "metadata": {
        "id": "Dqp6FowmfpLt"
      }
    },
    {
      "cell_type": "markdown",
      "source": [
        "24. What is method chaining in Python OOP?\n",
        "Method chaining is a syntax in Python that allows you to call multiple methods on an object in a single line of code."
      ],
      "metadata": {
        "id": "r39gJMsPfy31"
      }
    },
    {
      "cell_type": "markdown",
      "source": [
        "25. What is the purpose of the __call__ method in Python?\n",
        "The __call__ method in Python allows programmers to write classes that behave like functions. This allows the instances of the class to be called like functions."
      ],
      "metadata": {
        "id": "9rQI5EvTf-N-"
      }
    },
    {
      "cell_type": "markdown",
      "source": [
        "**Practical Questions**"
      ],
      "metadata": {
        "id": "xX3bu-HagNte"
      }
    },
    {
      "cell_type": "code",
      "source": [
        "#1.  Create a parent class Animal with a method speak() that prints a generic message. Create a child class Dog\n",
        "# that overrides the speak() method to print \"Bark!\".\n",
        "class Animal:\n",
        "  def speak(self):\n",
        "    print(\"This Animal makes a sound\")\n",
        "\n",
        "class Dog(Animal):\n",
        "  def speak(self):\n",
        "    print(\"Bark!\")\n",
        "\n",
        "dog = Dog()\n",
        "dog.speak()"
      ],
      "metadata": {
        "colab": {
          "base_uri": "https://localhost:8080/"
        },
        "id": "cp5WX_PfdGcy",
        "outputId": "78db142c-fb7b-4e1f-d081-d84096a54296"
      },
      "execution_count": null,
      "outputs": [
        {
          "output_type": "stream",
          "name": "stdout",
          "text": [
            "Bark!\n"
          ]
        }
      ]
    },
    {
      "cell_type": "code",
      "source": [
        "#2.Write a program to create an abstract class Shape with a method area(). Derive classes Circle and Rectangle\n",
        "# from it and implement the area() method in both.\n",
        "\n",
        "\n",
        "from abc import ABC, abstractmethod\n",
        "\n",
        "class Shape(ABC):\n",
        "    def area(self):\n",
        "        pass\n",
        "\n",
        "class Rectangle(Shape):\n",
        "    def area(self):\n",
        "        return 10 * 20\n",
        "\n",
        "class Circle(Shape):\n",
        "    def area(self):\n",
        "        return 3.14 * 10 * 10\n",
        "\n",
        "rectangle = Rectangle()\n",
        "circle =  Circle()\n",
        "\n",
        "print(circle.area())\n",
        "print(rectangle.area())\n"
      ],
      "metadata": {
        "id": "36xOlaxseHCr",
        "colab": {
          "base_uri": "https://localhost:8080/"
        },
        "outputId": "4a9d840f-10eb-49f3-c135-25f119c66ca3"
      },
      "execution_count": null,
      "outputs": [
        {
          "output_type": "stream",
          "name": "stdout",
          "text": [
            "314.0\n",
            "200\n"
          ]
        }
      ]
    },
    {
      "cell_type": "code",
      "source": [
        "#3. Implement a multi-level inheritance scenario where a class Vehicle has an attribute type. Derive a class Car\n",
        "# and further derive a class ElectricCar that adds a battery attribute.\n",
        "\n",
        "class Vehicle:\n",
        "    def __init__(self, make, model):\n",
        "          self.make = make\n",
        "          self.model = model\n",
        "    def display_info(self):\n",
        "          print(f\"Make: {self.make}, Model: {self.model}\")\n",
        "\n",
        "class Car(Vehicle):\n",
        "    def __init__(self, make, model, color):\n",
        "          super().__init__(make, model)\n",
        "          self.color = color\n",
        "    def display_info(self):\n",
        "        super().display_info()\n",
        "        print(f\"color: {self.color}\")\n",
        "\n",
        "class ElectricCar(Car):\n",
        "    def __init__(self, make, model, color, battery):\n",
        "          super().__init__(make , model , color)\n",
        "          self.battery = battery\n",
        "    def display_info(self):\n",
        "          super().display_info()\n",
        "          self.display_battery()\n",
        "          print(f\"Color: {self.color}\")\n",
        "    def display_battery(self):\n",
        "          print(f\"Battery: {self.battery}\")\n",
        "\n",
        "\n",
        "my_electric_car = ElectricCar(\"Tesla\", \"Model S\", \"Red\", 100)\n",
        "my_electric_car.display_info()"
      ],
      "metadata": {
        "colab": {
          "base_uri": "https://localhost:8080/"
        },
        "id": "MZgbUpCc9uZI",
        "outputId": "3ff0b48b-c919-4811-ff37-1fbd89533006"
      },
      "execution_count": null,
      "outputs": [
        {
          "output_type": "stream",
          "name": "stdout",
          "text": [
            "Make: Tesla, Model: Model S\n",
            "color: Red\n",
            "Battery: 100\n",
            "Color: Red\n"
          ]
        }
      ]
    },
    {
      "cell_type": "code",
      "source": [
        "#4. Implement a multi-level inheritance scenario where a class Vehicle has an attribute type. Derive a class Car\n",
        "and further derive a class ElectricCar that adds a battery attribute.\n",
        "\n",
        "Same as 3rd Question\n"
      ],
      "metadata": {
        "id": "yBRaslC9_flu"
      },
      "execution_count": null,
      "outputs": []
    },
    {
      "cell_type": "code",
      "source": [
        "#5. Write a program to demonstrate encapsulation by creating a class BankAccount with private attributes\n",
        "# balance and methods to deposit, withdraw, and check balance.\n",
        "\n",
        "\n",
        "class Bank_Account:\n",
        "   def __init__(self):\n",
        "    self.balance=0\n",
        "    print(\"Hello!!! Welcome to the Deposit & Withdrawal Machine\")\n",
        "\n",
        "   def deposit(self):\n",
        "       amount=float(input(\"Enter amount to be Deposited: \"))\n",
        "       self.balance += amount\n",
        "       print(\"\\n Amount Deposited:\",amount)\n",
        "\n",
        "   def withdraw(self):\n",
        "        amount = float(input(\"Enter amount to be Withdrawn: \"))\n",
        "        if self.balance>=amount:\n",
        "            self.balance-=amount\n",
        "            print(\"\\n You Withdrew:\", amount)\n",
        "        else:\n",
        "            print(\"\\n Insufficient balance  \")\n",
        "\n",
        "   def check(self):\n",
        "        amount = float(input(\"Enter amount to be checked\"))\n",
        "        self.balance += amount\n",
        "        print(\"Your balance is:\" , amount)\n",
        "\n",
        "\n",
        "\n"
      ],
      "metadata": {
        "id": "W1q7F0Ld_kj7"
      },
      "execution_count": 21,
      "outputs": []
    },
    {
      "cell_type": "code",
      "source": [
        "#6.  Demonstrate runtime polymorphism using a method play() in a base class Instrument. Derive classes Guitar\n",
        "# and Piano that implement their own version of play().\n",
        "\n",
        "class Instrument:\n",
        "  def play(self):\n",
        "    print(\"This instrument is playing\")\n",
        "\n",
        "class Piano(Instrument):\n",
        "  def play(self):\n",
        "    print(\"Piano is playing\")\n",
        "\n",
        "class Guitar(Instrument):\n",
        "  def play(self):\n",
        "    print(\"Guitar is playing\")\n",
        "\n",
        "piano = Piano()\n",
        "guitar = Guitar()\n",
        "\n",
        "instruments = [guitar,piano]\n",
        "\n",
        "for instrument in instruments:\n",
        "    instrument.play()"
      ],
      "metadata": {
        "id": "9utVj_zpBZ6n",
        "colab": {
          "base_uri": "https://localhost:8080/"
        },
        "outputId": "9d15782f-8fef-48d9-ef06-c09e6348e2b0"
      },
      "execution_count": null,
      "outputs": [
        {
          "output_type": "stream",
          "name": "stdout",
          "text": [
            "Guitar is playing\n",
            "Piano is playing\n"
          ]
        }
      ]
    },
    {
      "cell_type": "code",
      "source": [
        "#7.  Create a class MathOperations with a class method add_numbers() to add two numbers and a static\n",
        "# method subtract_numbers() to subtract two numbers.\n",
        "\n",
        "class MathOperations:\n",
        "  @classmethod\n",
        "  def add_numbers(cls,a,b):\n",
        "    return a + b\n",
        "\n",
        "  @staticmethod\n",
        "  def subtract_numbers(a,b):\n",
        "    return a - b\n",
        "\n",
        "a = 5\n",
        "b = 4\n",
        "print(MathOperations.add_numbers(a,b))\n",
        "print(MathOperations.subtract_numbers(a,b))"
      ],
      "metadata": {
        "id": "AYTR43GNHhVQ",
        "colab": {
          "base_uri": "https://localhost:8080/"
        },
        "outputId": "3799b404-6049-4e69-a15a-50357ebf266a"
      },
      "execution_count": 22,
      "outputs": [
        {
          "output_type": "stream",
          "name": "stdout",
          "text": [
            "9\n",
            "1\n"
          ]
        }
      ]
    },
    {
      "cell_type": "code",
      "source": [
        "#8.  Implement a class Person with a class method to count the total number of persons created.\n",
        "\n",
        "class Person:\n",
        "  count = 0\n",
        "  def __init__(self):\n",
        "    Person.count += 1\n",
        "\n",
        "  @classmethod\n",
        "  def total_persons(cls):\n",
        "    return cls.count\n",
        "\n",
        "person1 = Person()\n",
        "person2 = Person()\n",
        "person3 = Person()\n",
        "person4 = Person()\n",
        "\n",
        "print(Person.total_persons())"
      ],
      "metadata": {
        "id": "6WyqGJ1JLI_M",
        "colab": {
          "base_uri": "https://localhost:8080/"
        },
        "outputId": "6f0aae12-c7ab-4df6-c4d9-d45106f41cce"
      },
      "execution_count": 25,
      "outputs": [
        {
          "output_type": "stream",
          "name": "stdout",
          "text": [
            "4\n"
          ]
        }
      ]
    },
    {
      "cell_type": "code",
      "source": [
        "#9. Write a class Fraction with attributes numerator and denominator. Override the str method to display the\n",
        "# fraction as \"numerator/denominator\".\n",
        "\n",
        "class Fraction:\n",
        "  def __init__(self,numerator,denominator):\n",
        "    self.numerator = numerator\n",
        "    self.denominator = denominator\n",
        "\n",
        "  def __str__(self):\n",
        "    return f\"{self.numerator}/{self.denominator}\"\n",
        "\n",
        "fraction1 = Fraction(5,10)\n",
        "print(fraction1)\n",
        "\n"
      ],
      "metadata": {
        "id": "4A9bsmanLLSv",
        "colab": {
          "base_uri": "https://localhost:8080/"
        },
        "outputId": "c8703345-5866-45c9-9393-4d75a448bf0d"
      },
      "execution_count": 29,
      "outputs": [
        {
          "output_type": "stream",
          "name": "stdout",
          "text": [
            "5/10\n"
          ]
        }
      ]
    },
    {
      "cell_type": "code",
      "source": [
        "10.# Demonstrate operator overloading by creating a class Vector and overriding the add method to add two\n",
        "#vectors.\n",
        "\n",
        "class Vector:\n",
        "  def __init__(self,x,y):\n",
        "    self.x = x\n",
        "    self.y = y\n",
        "\n",
        "  def __add__(self,other):\n",
        "    return Vector(self.x + other.x, self.y + other.y)\n",
        "\n",
        "  def __str__(self):\n",
        "    return f\"{self.x}/{self.y}\"\n",
        "\n",
        "vector1 = Vector(1,2)\n",
        "vector2 = Vector(3,4)\n",
        "\n",
        "print(vector1 + vector2)\n",
        "\n",
        "\n"
      ],
      "metadata": {
        "id": "bt7qnBHDNPQ5",
        "colab": {
          "base_uri": "https://localhost:8080/"
        },
        "outputId": "4549f72d-b6fe-4b85-f683-fcd8569f1b56"
      },
      "execution_count": 20,
      "outputs": [
        {
          "output_type": "stream",
          "name": "stdout",
          "text": [
            "4/6\n"
          ]
        }
      ]
    },
    {
      "cell_type": "code",
      "source": [
        "11. #Create a class Person with attributes name and age. Add a method greet() that prints \"Hello, my name is\n",
        "# {name} and I am {age} years old.\"\n",
        "\n",
        "\n",
        "class Person:\n",
        "  def __init__(self,name,age):\n",
        "   self.name = name\n",
        "   self.age = age\n",
        "\n",
        "  def greet(self):\n",
        "    print(f\"Hello, my name is {self.name} and I am {self.age} years old\")\n",
        "\n",
        "person1 = Person(\"Alice\", 25)\n",
        "person2 = Person(\"Bob\", 30)\n",
        "\n",
        "person1.greet()\n",
        "person2.greet()\n"
      ],
      "metadata": {
        "id": "MdBFBwVYNQAB",
        "colab": {
          "base_uri": "https://localhost:8080/"
        },
        "outputId": "fc9b9c23-451b-4f55-d367-0a4a74584334"
      },
      "execution_count": 18,
      "outputs": [
        {
          "output_type": "stream",
          "name": "stdout",
          "text": [
            "Hello, my name is Alice and I am 25 years old\n",
            "Hello, my name is Bob and I am 30 years old\n"
          ]
        }
      ]
    },
    {
      "cell_type": "code",
      "source": [
        "#12. Implement a class Student with attributes name and grades. Create a method average_grade() to compute\n",
        "# the average of the grades.\n",
        "\n",
        "class Student:\n",
        "  def __init__(self,name,grades):\n",
        "    self.name = name\n",
        "    self.grade = grades\n",
        "\n",
        "  def average_grade(self):\n",
        "    return sum(self.grade) / len(self.grade)\n",
        "\n",
        "student1 = Student(\"Rahul\", [85, 90, 92, 88])\n",
        "print(student1.average_grade())"
      ],
      "metadata": {
        "id": "SqdAo6OMOGAf",
        "colab": {
          "base_uri": "https://localhost:8080/"
        },
        "outputId": "410ba53d-3dff-4c9d-cc8e-ba23dfbf23f1"
      },
      "execution_count": 16,
      "outputs": [
        {
          "output_type": "stream",
          "name": "stdout",
          "text": [
            "88.75\n"
          ]
        }
      ]
    },
    {
      "cell_type": "code",
      "source": [
        "#13.  Create a class Rectangle with methods set_dimensions() to set the dimensions and area() to calculate the\n",
        "# area.\n",
        "\n",
        "class Rectangle:\n",
        "  def __init__(self, length, width):\n",
        "        self.__length = length\n",
        "        self.__width = width\n",
        "\n",
        "  def set_length(self, length):\n",
        "        self.__length = length\n",
        "\n",
        "  def set_width(self, width):\n",
        "        self.__width = width\n",
        "\n",
        "  def area(self):\n",
        "        return self.__length * self.__width\n",
        "\n",
        "rectangle = Rectangle(10, 20)\n",
        "print(rectangle.area())"
      ],
      "metadata": {
        "id": "MJ9FrewvPx0A",
        "colab": {
          "base_uri": "https://localhost:8080/"
        },
        "outputId": "c5855960-ccf3-4445-c5b3-4bd91eba486e"
      },
      "execution_count": 14,
      "outputs": [
        {
          "output_type": "stream",
          "name": "stdout",
          "text": [
            "200\n"
          ]
        }
      ]
    },
    {
      "cell_type": "code",
      "source": [
        "#14. Create a class Employee with a method calculate_salary() that computes the salary based on hours worked\n",
        "#and hourly rate. Create a derived class Manager that adds a bonus to the salary.\n",
        "\n",
        "class Employee:\n",
        "    def __init__(self, name, salary):\n",
        "        self.name = name\n",
        "        self.salary = salary\n",
        "\n",
        "    def calculate_salary(self, hours_worked, hourly_rate):\n",
        "        return(hours_worked * hourly_rate)\n",
        "\n",
        "class Manager(Employee):\n",
        "    def __init__(self, name, salary, bonus):\n",
        "        super().__init__(name, salary)\n",
        "        self.bonus = bonus\n",
        "\n",
        "    def calculate_salary(self, hours_worked, hourly_rate):\n",
        "        return(super().calculate_salary( hours_worked, hourly_rate) + self.bonus)\n",
        "\n",
        "employee = Employee(\"Rahul Kumar\" , 50000)\n",
        "\n",
        "salary = employee.calculate_salary(120, 50)\n",
        "salary = salary + 100\n",
        "print(salary)\n"
      ],
      "metadata": {
        "id": "1R0QDma-QeBo",
        "colab": {
          "base_uri": "https://localhost:8080/"
        },
        "outputId": "4e975947-4dd1-4c1e-c6b1-a2177f21028a"
      },
      "execution_count": 13,
      "outputs": [
        {
          "output_type": "stream",
          "name": "stdout",
          "text": [
            "6100\n"
          ]
        }
      ]
    },
    {
      "cell_type": "code",
      "source": [
        "#15.  Create a class Product with attributes name, price, and quantity. Implement a method total_price() that\n",
        "#calculates the total price of the product.\n",
        "\n",
        "class Product:\n",
        "    def __init__(self, name, price, quantity):\n",
        "        self.name = name\n",
        "        self.price = price\n",
        "        self.quantity = quantity\n",
        "\n",
        "    def total_price(self):\n",
        "        return self.price * self.quantity\n",
        "\n",
        "item = Product(\"Apple\", 150, 2)\n",
        "print(item.total_price())\n",
        "\n",
        "\n"
      ],
      "metadata": {
        "id": "f6sZDjaNQ3BJ",
        "colab": {
          "base_uri": "https://localhost:8080/"
        },
        "outputId": "ff9aeeda-fa64-4ce1-9260-a9714a2873ea"
      },
      "execution_count": 9,
      "outputs": [
        {
          "output_type": "stream",
          "name": "stdout",
          "text": [
            "300\n"
          ]
        }
      ]
    },
    {
      "cell_type": "code",
      "source": [
        "#16. Create a class Animal with an abstract method sound(). Create two derived classes Cow and Sheep that\n",
        "# implement the sound() method.\n",
        "\n",
        "class Animal:\n",
        "  def sound(self):\n",
        "    pass\n",
        "\n",
        "class Cow(Animal):\n",
        "  def sound(self):\n",
        "    print(\"Moo\")\n",
        "\n",
        "class Sheep(Animal):\n",
        "  def sound(self):\n",
        "    print(\"Baa\")\n",
        "\n",
        "cow = Cow()\n",
        "sheep = Sheep()\n",
        "\n",
        "print(cow.sound())\n",
        "print(sheep.sound())"
      ],
      "metadata": {
        "colab": {
          "base_uri": "https://localhost:8080/"
        },
        "id": "9gzfL-yxV-Wz",
        "outputId": "1a90076d-1be3-4a8e-a3d8-8c1549d88383"
      },
      "execution_count": null,
      "outputs": [
        {
          "output_type": "stream",
          "name": "stdout",
          "text": [
            "Moo\n",
            "None\n",
            "Baa\n",
            "None\n"
          ]
        }
      ]
    },
    {
      "cell_type": "code",
      "source": [
        "#17. Create a class Book with attributes title, author, and year_published. Add a method get_book_info() that\n",
        "# returns a formatted string with the book's details.\n",
        "\n",
        "class book:\n",
        "  def __init__(self,title,author,year_published):\n",
        "    self.title = title\n",
        "    self.author = author\n",
        "    self.year_published = year_published\n",
        "\n",
        "  def get_book_info(self):\n",
        "    return(f\"Title: {self.title}, Author: {self.author}, Year Published: {self.year_published}\")\n",
        "\n",
        "book1 = book(\"Harry Potter\", \"J.K. Rowling\", 1997)\n",
        "print(book1.get_book_info())\n"
      ],
      "metadata": {
        "id": "yY_fElLfXqg0",
        "colab": {
          "base_uri": "https://localhost:8080/"
        },
        "outputId": "3795f24c-2922-4a6c-c7a0-c11a1067f2e3"
      },
      "execution_count": 6,
      "outputs": [
        {
          "output_type": "stream",
          "name": "stdout",
          "text": [
            "Title: Harry Potter, Author: J.K. Rowling, Year Published: 1997\n"
          ]
        }
      ]
    },
    {
      "cell_type": "code",
      "source": [
        "#18.  Create a class House with attributes address and price. Create a derived class Mansion that adds an\n",
        "attribute number_of_rooms.\n",
        "\n",
        "class House:\n",
        "  def __init__(self,address,price):\n",
        "    self.address = address\n",
        "    self.price = price\n",
        "\n",
        "  def display_details(self):\n",
        "      print(f\"Address: {self.address}, Price: {self.price}\")\n",
        "\n",
        "class Mansion(House):\n",
        "  def __init__(self,address,price,bedrooms):\n",
        "    super().__init__(address,price)\n",
        "    self.bedrooms = bedrooms\n",
        "\n",
        "  def display_details(self):\n",
        "    super().display_details()\n",
        "    print(f\"Bedrooms: {self.bedrooms}\")\n",
        "\n",
        "house = House(\"Delhi\" , \"2Cr\")\n",
        "mansion = Mansion(\"Delhi\" , \"2Cr\" , 4)\n",
        "\n",
        "house.display_details()\n",
        "print()\n",
        "mansion.display_details()\n",
        "print()"
      ],
      "metadata": {
        "id": "ZHlswqG6YoX_",
        "colab": {
          "base_uri": "https://localhost:8080/"
        },
        "outputId": "3d734bac-15af-4d15-e0ad-ab9c4d402340"
      },
      "execution_count": null,
      "outputs": [
        {
          "output_type": "stream",
          "name": "stdout",
          "text": [
            "Address: Delhi, Price: 2Cr\n",
            "\n",
            "Address: Delhi, Price: 2Cr\n",
            "Bedrooms: 4\n",
            "\n"
          ]
        }
      ]
    }
  ]
}